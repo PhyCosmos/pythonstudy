{
 "cells": [
  {
   "cell_type": "code",
   "execution_count": null,
   "id": "9aab39da",
   "metadata": {},
   "outputs": [],
   "source": [
    "from sklearn import datasets\n",
    "import numpy as np\n",
    "import matplotlib.pyplot as plt\n",
    "\n",
    "iris = datasets.load_iris()"
   ]
  },
  {
   "cell_type": "code",
   "execution_count": null,
   "id": "db1eb221",
   "metadata": {},
   "outputs": [],
   "source": [
    "list(iris.keys()), iris['data'].shape, iris['target'].shape"
   ]
  },
  {
   "cell_type": "code",
   "execution_count": null,
   "id": "4fda722a",
   "metadata": {},
   "outputs": [],
   "source": [
    "# sepal width, sepal length, petal width, petal length\n",
    "iris['data'][:5]"
   ]
  },
  {
   "cell_type": "code",
   "execution_count": null,
   "id": "3da1d4b9",
   "metadata": {},
   "outputs": [],
   "source": [
    "iris['target']"
   ]
  },
  {
   "cell_type": "markdown",
   "id": "7c41339e",
   "metadata": {},
   "source": [
    "# Learning Model\n",
    "## 1. Hypothesis sets\n",
    "### A simple hypothesis set - the 'perceptron'\n",
    "For $d$ dimensional input $\\mathbf{x} = (x_1,\\dots,x_d)$ 'attributes of an iris'  \n",
    "$$\n",
    "\\begin{align}\n",
    "\\textrm{Approve NOT iris setosa if} \\quad \\sum_{i=1}^{d}w_{i}x_{i} &> \\textsf{threshold,} \\\\\n",
    "\\textrm{Deny NOT iris setosa if} \\quad \\sum_{i=1}^{d}w_{i}x_{i} &< \\textsf{threshold.}\n",
    "\\end{align}\n",
    "$$\n",
    "\n",
    "Let this $h \\in \\mathcal{H}$ :  \n",
    "$$\n",
    "h(\\mathbf{x}) = \\mathsf{sign} \\left( \\left( \\sum_{i=1}^{d} w_{i}x_{i} \\right) - \\textsf{threshold}  \\right)\n",
    "$$\n",
    "\n",
    "\n",
    "Introduce an artificial coordiante $x_0 = 1$ and let $ -\\textsf{threshold}=w_0$:\n",
    "$$\n",
    "\\begin{align}\n",
    "h(\\mathbf{x}) &= \\mathsf{sign} \\left( \\left( \\sum_{i=1}^{d} w_{i}x_{i} \\right) + w_{0}  \\right) \\\\\n",
    "h(\\mathbf{x}) &= \\mathsf{sign} \\left( \\sum_{i=0}^{d} w_{i}x_{i} \\right) \\\\ \n",
    "h(\\mathbf{x}) &= \\mathsf{sign} (\\mathbf{w}^{\\top}\\mathbf{x})\n",
    "\\end{align}\n",
    "$$\n",
    "## 2. Learning Algorithm\n",
    "### PLA - A simple perceptron learning algorithm\n",
    "Given the training set of $N$ samples:\n",
    "$$\n",
    "(\\mathbf{x}_1, y_1), (\\mathbf{x}_2, y_2), \\dots, (\\mathbf{x}_N, y_N)\n",
    "$$\n",
    "\n",
    "- strategy:  \n",
    "    pick a misclassified point, say $n$th point:\n",
    "    $$\n",
    "    \\mathsf{sign}(\\mathbf{w}^{\\top}\\mathbf{x}_n) \\neq y_n\n",
    "    $$\n",
    "    and update the weight vector:\n",
    "    $$\n",
    "    \\boxed{\\mathbf{w} \\leftarrow \\mathbf{w} + y_n \\mathbf{x}_n}\n",
    "    $$\n",
    "    At iteration $epoch = 1, 2, 3, \\dots, $ pick one among the misclassified points  \n",
    "    and run a PLA iteration on it."
   ]
  },
  {
   "cell_type": "code",
   "execution_count": null,
   "id": "0028ea1c",
   "metadata": {},
   "outputs": [],
   "source": [
    "# d - dimensional features\n",
    "d = 2\n",
    "\n",
    "# X points of N - samples: iris['data'][:, (1, 3)]\n",
    "X = iris['data'][:,1:4:2]\n",
    "\n",
    "# training- samples\n",
    "N = len(X)\n",
    "\n",
    "# labels: 종 인덱스가 0이면 -1, 그밖의 경우는 +1\n",
    "y = iris['target'].copy()\n",
    "y = np.array([1 if approve > 0 else -1 for approve in y])"
   ]
  },
  {
   "cell_type": "code",
   "execution_count": null,
   "id": "22a56be9",
   "metadata": {},
   "outputs": [],
   "source": [
    "# artificial variable 1 과 w0를 도입한다. \n",
    "# initial W\n",
    "W = np.array([0.5, -1, 2])\n",
    "X = np.hstack((np.ones((len(X), 1)), X))"
   ]
  },
  {
   "cell_type": "code",
   "execution_count": null,
   "id": "997397f7",
   "metadata": {},
   "outputs": [],
   "source": [
    "# W에 따른 가설집합의 한 원소가설이 내놓는 값\n",
    "def hypothesis(X, W):\n",
    "    return np.sign(np.sum(W*X, axis=1))"
   ]
  },
  {
   "cell_type": "code",
   "execution_count": null,
   "id": "6c3ed2d9",
   "metadata": {},
   "outputs": [],
   "source": [
    "def draw(X, W, y, epoch):\n",
    "    w0, w1, w2 = W\n",
    "    plt.scatter(X[:,1], X[:, 2], c=y, cmap='viridis')\n",
    "    xline = np.linspace(min(X[:,1]), max(X[:,1]))\n",
    "    plt.plot(xline, -w1*xline/w2 - w0/w2)\n",
    "    plt.grid()\n",
    "    plt.show()\n",
    "    print(\"Epoch: \", epoch)\n",
    "    print(\"Weights: \", W)"
   ]
  },
  {
   "cell_type": "code",
   "execution_count": null,
   "id": "6e9e6010",
   "metadata": {
    "scrolled": true
   },
   "outputs": [],
   "source": [
    "# iteration fitting 과정\n",
    "def fit(X_, W_, y_, epochs):\n",
    "    for epoch in range(epochs):\n",
    "        # 한 번iteration할 때마다\n",
    "        # 잘못 판단한 점을 골라내기 전에 미리 y*x을 계산하고 y[:,np.newaxis]*X\n",
    "        # 이 중에서 잘못 판단한 점을 마스킹[hypothesis(X, W) != y]로 하여 골라내기\n",
    "        wrong = (y_[:,np.newaxis]*X_)[hypothesis(X_, W_) != y_]\n",
    "        # 그 중에서 하나를 택하여 W를 업데이트 한다.\n",
    "        if len(wrong) != 0:\n",
    "            W_ = W_ + wrong[np.random.randint(len(wrong))]\n",
    "            if epoch < 5 | (not epoch % 5):\n",
    "                draw(X_, W_, y_, epoch)            \n",
    "    draw(X_, W_, y_, epoch)\n",
    "    return W_"
   ]
  },
  {
   "cell_type": "code",
   "execution_count": null,
   "id": "d7eb8009",
   "metadata": {},
   "outputs": [],
   "source": [
    "%matplotlib inline\n",
    "fit(X, W, y, 100)                  "
   ]
  },
  {
   "cell_type": "markdown",
   "id": "d33bf95b",
   "metadata": {},
   "source": [
    "# scikit-learn을 사용한 분류"
   ]
  },
  {
   "cell_type": "code",
   "execution_count": null,
   "id": "e6180689",
   "metadata": {},
   "outputs": [],
   "source": [
    "X = iris['data'][:, 3:]\n",
    "y = (iris['target'] == 2).astype(int)"
   ]
  },
  {
   "cell_type": "code",
   "execution_count": null,
   "id": "e96ab4a7",
   "metadata": {},
   "outputs": [],
   "source": [
    "from sklearn.linear_model import LogisticRegression\n",
    "log_reg = LogisticRegression()\n",
    "log_reg.fit(X, y)"
   ]
  },
  {
   "cell_type": "code",
   "execution_count": null,
   "id": "3602d1cc",
   "metadata": {},
   "outputs": [],
   "source": [
    "X_new = np.linspace(0, 3, 1000).reshape(-1, 1)\n",
    "y_proba = log_reg.predict_proba(X_new)\n",
    "plt.scatter(X, y, c=y, cmap='winter')\n",
    "plt.plot(X_new, y_proba[:, 1], \"g-\", label=\"Iris virginica\")\n",
    "plt.plot(X_new, y_proba[:, 0], \"b--\", label=\"Not Iris virginica\")"
   ]
  },
  {
   "cell_type": "code",
   "execution_count": null,
   "id": "59dd4c33",
   "metadata": {},
   "outputs": [],
   "source": [
    "log_reg.predict([[1.7], [1.5]])"
   ]
  },
  {
   "cell_type": "code",
   "execution_count": null,
   "id": "4f9b934d",
   "metadata": {},
   "outputs": [],
   "source": [
    "X = iris['data'][:, (2, 3)]\n",
    "y = iris['target']\n",
    "\n",
    "softmax_reg = LogisticRegression(multi_class=\"multinomial\", solver='lbfgs', C=10)\n",
    "softmax_reg.fit(X, y)"
   ]
  },
  {
   "cell_type": "code",
   "execution_count": null,
   "id": "d6882a62",
   "metadata": {},
   "outputs": [],
   "source": [
    "softmax_reg.predict([[5, 2]])"
   ]
  },
  {
   "cell_type": "code",
   "execution_count": null,
   "id": "c5f6dcf1",
   "metadata": {},
   "outputs": [],
   "source": [
    "softmax_reg.predict_proba([[5, 2]])"
   ]
  },
  {
   "cell_type": "markdown",
   "id": "72127bcd",
   "metadata": {},
   "source": [
    "https://home.work.caltech.edu/homework/hw1.pdf  \n",
    "• The Perceptron Learning Algorithm\n",
    "In this problem, you will create your own target function f and data set D to see\n",
    "how the Perceptron Learning Algorithm works. Take d = 2 so you can visualize the\n",
    "problem, and assume $X = [−1, 1] × [−1, 1]$ with uniform probability of picking each\n",
    "x ∈ X .  \n",
    "In each run, choose a random line in the plane as your target function f (do this by\n",
    "taking two random, uniformly distributed points in $[−1, 1] × [−1, 1]$ and taking the\n",
    "line passing through them), where one side of the line maps to +1 and the other maps\n",
    "to −1. Choose the inputs xn of the data set as random points (uniformly in X ), and\n",
    "evaluate the target function on each xn to get the corresponding output yn.  \n",
    "Now, in each run, use the Perceptron Learning Algorithm to find g. Start the PLA\n",
    "with the weight vector w being all zeros (consider sign(0) = 0, so all points are initially misclassified), and at each iteration have the algorithm choose a point randomly\n",
    "from the set of misclassified points. We are interested in two quantities: the number\n",
    "of iterations that PLA takes to converge to g, and the disagreement between f and\n",
    "g which is $P[f(x) \\neq g(x)]$ (the probability that f and g will disagree on their classification of a random point). You can either calculate this probability exactly, or\n",
    "approximate it by generating a sufficiently large, separate set of points to estimate it.\n",
    "In order to get a reliable estimate for these two quantities, you should repeat the\n",
    "experiment for 1000 runs (each run as specified above) and take the average over\n",
    "these runs"
   ]
  },
  {
   "cell_type": "code",
   "execution_count": 1,
   "id": "794e39e3",
   "metadata": {},
   "outputs": [],
   "source": [
    "import numpy as np\n",
    "import matplotlib.pyplot as plt\n",
    "\n",
    "runs = 1000\n",
    "N = 100\n",
    "d = 2\n",
    "interval = [-1, 1]"
   ]
  },
  {
   "cell_type": "code",
   "execution_count": 2,
   "id": "184ad423",
   "metadata": {},
   "outputs": [],
   "source": [
    "# 더미변수를 도입한 f, g 레벨 함수 \n",
    "def level_function(x, w):\n",
    "    return np.sign(np.sum(w*x, axis=1))    "
   ]
  },
  {
   "cell_type": "code",
   "execution_count": 3,
   "id": "3a72bfd2",
   "metadata": {},
   "outputs": [],
   "source": [
    "# create line f(x) for (2,) array 'x', given pts 2X2 array of points\n",
    "def create_function():\n",
    "    coord = np.array([np.random.uniform(*interval, size=2) for i in range(d)])\n",
    "    # 각각 x1에서의 차이, x2에서의 차이: (d,) array\n",
    "    diff = np.diff(coord).reshape((2,))\n",
    "\n",
    "    # finding 0 level line\n",
    "    if diff[0].any():\n",
    "        slope = diff[1]/diff[0]\n",
    "        x2_intercept = coord[1, 0] - slope * coord[0, 0]\n",
    "        line = lambda x1: slope*x1 + x2_intercept\n",
    "    else:\n",
    "        line = coord[0, 0]\n",
    "\n",
    "    # a normal vector and the sign function: +1 if + level, -1 if - level, 0 if 0 level\n",
    "    normal_vector = np.array([[0, -1], [1, 0]]).dot(diff)\n",
    "    w0 = - (normal_vector[0]*coord[0, 0] + normal_vector[1]*coord[1, 0])\n",
    "    w = np.hstack((np.array([w0]), normal_vector))\n",
    "    \n",
    "   \n",
    "    return line, lambda x: level_function(x, w)"
   ]
  },
  {
   "cell_type": "code",
   "execution_count": 4,
   "id": "0da48523",
   "metadata": {},
   "outputs": [],
   "source": [
    "# choose N random points and their labels\n",
    "def choose_inputs(N):\n",
    "    x1, x2 = np.array([np.random.uniform(*interval, size=N) for i in range(d)])    \n",
    "    points = np.hstack((np.ones((N,1)),x1[:,np.newaxis], x2[:,np.newaxis]))\n",
    "    return x1, x2, points"
   ]
  },
  {
   "cell_type": "code",
   "execution_count": 5,
   "id": "9d05cd0e",
   "metadata": {},
   "outputs": [],
   "source": [
    "# for sample points x, their label y and iteration itr\n",
    "# finding fitting weight w by PLA\n",
    "def fit_pla(x,  y, itr, w=None):\n",
    "    # initial column weight vector\n",
    "    w = np.zeros((3,))    \n",
    "    \n",
    "    iterations_to_converge = 0\n",
    "    while(iterations_to_converge < itr):\n",
    "        misclassified = (y.reshape(-1, 1)*x)[np.not_equal(level_function(x, w), y)]\n",
    "        if misclassified.any():\n",
    "            # random,choice는 1-d array인 경우만 가능하므로\n",
    "            index = np.random.choice(len(misclassified))\n",
    "            w = w + misclassified[index]\n",
    "        else:\n",
    "            break\n",
    "        iterations_to_converge += 1\n",
    "    return iterations_to_converge, w"
   ]
  },
  {
   "cell_type": "code",
   "execution_count": 6,
   "id": "4d7d52ef",
   "metadata": {},
   "outputs": [
    {
     "name": "stdout",
     "output_type": "stream",
     "text": [
      "79.174 0.01581\n"
     ]
    }
   ],
   "source": [
    "# runs = 1000 번 실험하기\n",
    "iteration = N*2\n",
    "itred = []\n",
    "experiments = 100\n",
    "disagree_prob =[]\n",
    "for run in range(runs):\n",
    "    # target f function 만들기\n",
    "    line_f, f = create_function()\n",
    "    # N sample points 만들기\n",
    "    x1, x2, points = choose_inputs(N)\n",
    "    # y labels 알아내기\n",
    "    y = f(points)\n",
    "    \n",
    "    # 학습\n",
    "    itr, w = fit_pla(points, y, iteration)\n",
    "    \n",
    "    # 반복실행 횟수\n",
    "    itred.append(itr)\n",
    "#     x1, x2, x = choose_inputs(experiments)\n",
    "#     g = level_function(x, w)\n",
    "#     disagree_prob.append(np.mean(f(x) == g_))\n",
    "    for i in range(experiments):\n",
    "        x1, x2, x = choose_inputs(1)\n",
    "        disagree_prob.append(f(x) != level_function(x, w))\n",
    "        \n",
    "    \n",
    "\n",
    "print(np.mean(itred), np.mean(disagree_prob))"
   ]
  },
  {
   "cell_type": "code",
   "execution_count": null,
   "id": "c9935a02",
   "metadata": {},
   "outputs": [],
   "source": []
  },
  {
   "cell_type": "code",
   "execution_count": null,
   "id": "55ea4744",
   "metadata": {},
   "outputs": [],
   "source": []
  },
  {
   "cell_type": "code",
   "execution_count": null,
   "id": "1318243d",
   "metadata": {},
   "outputs": [],
   "source": []
  },
  {
   "cell_type": "code",
   "execution_count": null,
   "id": "9f72f897",
   "metadata": {},
   "outputs": [],
   "source": []
  },
  {
   "cell_type": "code",
   "execution_count": null,
   "id": "2f53b827",
   "metadata": {},
   "outputs": [],
   "source": []
  },
  {
   "cell_type": "code",
   "execution_count": null,
   "id": "2a4d4006",
   "metadata": {},
   "outputs": [],
   "source": []
  },
  {
   "cell_type": "code",
   "execution_count": null,
   "id": "59f43f24",
   "metadata": {},
   "outputs": [],
   "source": [
    "np.hstack((np.ones((100,1)),x1[:,np.newaxis], x2[:,np.newaxis]))"
   ]
  },
  {
   "cell_type": "code",
   "execution_count": null,
   "id": "86af3867",
   "metadata": {},
   "outputs": [],
   "source": [
    "pts_ = np.vstack((np.ones((experiment,))[np.newaxis,:], [x1, x2])).T"
   ]
  },
  {
   "cell_type": "code",
   "execution_count": null,
   "id": "50a3b1b0",
   "metadata": {},
   "outputs": [],
   "source": [
    "fuc = lambda x: level_function(x, w)\n",
    "fuc([[1, 2, 1]])"
   ]
  },
  {
   "cell_type": "code",
   "execution_count": null,
   "id": "270e34d2",
   "metadata": {},
   "outputs": [],
   "source": [
    "k =3.\n",
    "l = np.array([1, -2])\n",
    "np.hstack((np.array([k]), l))"
   ]
  },
  {
   "cell_type": "code",
   "execution_count": null,
   "id": "b38f04e8",
   "metadata": {},
   "outputs": [],
   "source": [
    "normal_vector = np.array([[0, -1], [1, 0]]).dot([1, 1])\n",
    "normal_vector"
   ]
  },
  {
   "cell_type": "code",
   "execution_count": null,
   "id": "548b5416",
   "metadata": {},
   "outputs": [],
   "source": [
    "experiment = 100\n",
    "coord = np.array([np.random.uniform(*interval, size=experiment) for i in range(d)])\n",
    "pts_ = np.vstack((np.ones((experiment,))[np.newaxis,:], coord)).T\n",
    "np.sum(g(pts_, w) == f(*coord))"
   ]
  },
  {
   "cell_type": "code",
   "execution_count": null,
   "id": "8952b003",
   "metadata": {},
   "outputs": [],
   "source": [
    "x1, x2 = np.array([np.random.uniform(*interval, size=experiment) for i in range(d)])\n",
    "# pts_ = np.vstack((np.ones((experiment,))[np.newaxis,:], points_)).T\n",
    "# pts_"
   ]
  },
  {
   "cell_type": "code",
   "execution_count": null,
   "id": "93bc56fa",
   "metadata": {},
   "outputs": [],
   "source": [
    "# coordi = np.empty((d, 2))\n",
    "coordi = np.array([np.random.uniform(*interval, size=2) for i in range(d)])\n",
    "np.diff(coordi)"
   ]
  },
  {
   "cell_type": "code",
   "execution_count": null,
   "id": "dd998d9e",
   "metadata": {},
   "outputs": [],
   "source": [
    "# x_ = np.hstack((np.ones((len(selected), 1)), selected))\n",
    "x_[x_[:,0] != np.ones((10,))], "
   ]
  },
  {
   "cell_type": "code",
   "execution_count": null,
   "id": "1a4db9ad",
   "metadata": {},
   "outputs": [],
   "source": [
    "x_[np.equal(x_[:,0], np.ones((10,)))]"
   ]
  },
  {
   "cell_type": "code",
   "execution_count": null,
   "id": "b300e914",
   "metadata": {},
   "outputs": [],
   "source": [
    "np.sum(np.ones((3,))*x_, axis=1)\n",
    "# np.sign(np.sum(w.T*x, axis=1))"
   ]
  },
  {
   "cell_type": "code",
   "execution_count": null,
   "id": "9c1c3afe",
   "metadata": {},
   "outputs": [],
   "source": []
  },
  {
   "cell_type": "code",
   "execution_count": null,
   "id": "8e03a0b4",
   "metadata": {},
   "outputs": [],
   "source": [
    "points = 2 * np.random.random_sample((2, 2)) - 1\n",
    "x1 = np.linspace(-0.99, 0.99)\n",
    "x2, f = create_target_function(points)\n",
    "plt.scatter(points[:,0], points[:,1])\n",
    "plt.plot(x1, x2(x1))\n",
    "plt.ylim(-1, 1)\n",
    "f(.75, .90), f(0, 0)"
   ]
  },
  {
   "cell_type": "code",
   "execution_count": null,
   "id": "a1571037",
   "metadata": {},
   "outputs": [],
   "source": [
    "pts1 = 2 * np.random.random_sample((2, 2)) - 1\n",
    "pts2 = 2 * np.random.random_sample((2, 2)) - 1\n",
    "x1 = np.linspace(-.99, .99)\n",
    "x2 = x1.copy()\n",
    "X, Y = np.meshgrid(x1, x2)\n",
    "# np.hstack((x1[:,np.newaxis], x2[:, np.newaxis]))\n",
    "X.shape"
   ]
  },
  {
   "cell_type": "code",
   "execution_count": null,
   "id": "3ad3a784",
   "metadata": {},
   "outputs": [],
   "source": [
    "f1 = lambda x, y: x + y\n",
    "f1(1, 2)\n",
    "f1(X, Y)"
   ]
  },
  {
   "cell_type": "code",
   "execution_count": null,
   "id": "bb043d5b",
   "metadata": {},
   "outputs": [],
   "source": [
    "points = 2 * np.random.random_sample((2, 2)) - 1\n",
    "# points = np.array([[-.5, .7], [.5, -2]])\n",
    "_, f = create_target_function(points)\n",
    "plt.figure(figsize=(6, 6))\n",
    "im = plt.imshow(f(X, Y), interpolation='bilinear', origin='lower',\n",
    "                cmap='RdBu_r', extent=(-1, 1, -1, 1))\n",
    "\n",
    "cp = plt.contour(X, Y, f(X, Y), np.arange(-10, 10), cmap='jet', alpha=.75)\n",
    "plt.clabel(cp, fontsize=12)\n",
    "plt.colorbar()\n",
    "plt.show()\n",
    "f(0, 0)"
   ]
  },
  {
   "cell_type": "code",
   "execution_count": null,
   "id": "443c62a9",
   "metadata": {},
   "outputs": [],
   "source": [
    "# np.arange(-f, 10)\n",
    "end_points = f(1, 1), f(-1, 1), f(-1, -1), f(1, -1)\n",
    "pt = np.round(end_points)\n",
    "print(end_points,\"\\n\", np.min(end_points), np.max(end_points))\n",
    "np.arange(np.min(end_points), np.max(end_points), (-np.min(end_points) + np.max(end_points))/10)\n",
    "np.arange(np.min(pt), np.max(pt))"
   ]
  },
  {
   "cell_type": "code",
   "execution_count": null,
   "id": "7e943715",
   "metadata": {},
   "outputs": [],
   "source": [
    "a, f = (1, (lambda x1, x2 : x1 + x2))\n",
    "!None"
   ]
  },
  {
   "cell_type": "code",
   "execution_count": null,
   "id": "4c926f53",
   "metadata": {},
   "outputs": [],
   "source": [
    "_, f = create_target_function(points)\n",
    "f(X, Y)"
   ]
  },
  {
   "cell_type": "code",
   "execution_count": null,
   "id": "b5806e55",
   "metadata": {},
   "outputs": [],
   "source": [
    "np.array([[0, -1], [1, 0]]).dot([2, 1]).dot([2, 1])"
   ]
  },
  {
   "cell_type": "code",
   "execution_count": null,
   "id": "606f01ca",
   "metadata": {},
   "outputs": [],
   "source": [
    "np.random.uniform([-1, 1], 2)"
   ]
  },
  {
   "cell_type": "code",
   "execution_count": null,
   "id": "b24191e5",
   "metadata": {},
   "outputs": [],
   "source": [
    "ynxn[y != hypothesis(X, W)]\n",
    "# np.random.randint(len(z))    \n",
    "# wrongX, wrong_y = (X, y)[y != hypothesis(X, W)]\n",
    "# wrongX[np.random.randint(len(wrongX))]\n",
    "# np.random.randint(len(X[y != hypothesis(X, W)])),np.random.randint(len(X[y != hypothesis(X, W)])),np.random.randint(len(X[y != hypothesis(X, W)]))"
   ]
  },
  {
   "cell_type": "code",
   "execution_count": null,
   "id": "21533831",
   "metadata": {},
   "outputs": [],
   "source": [
    "plt.scatter(iris.data[:,1], iris.data[:, 3], c=iris.target, cmap='viridis')"
   ]
  },
  {
   "cell_type": "code",
   "execution_count": null,
   "id": "ca5d09e2",
   "metadata": {},
   "outputs": [],
   "source": [
    "iris.data[:,1].shape, iris.data[:, 3].shape"
   ]
  },
  {
   "cell_type": "code",
   "execution_count": null,
   "id": "be5afabe",
   "metadata": {},
   "outputs": [],
   "source": [
    "[i for i in range(2) if i > 0]\n",
    "[i if i == 0  else 1 for i in iris.target]\n",
    "plt.scatter([i[1] for i in iris.data if i[3] < 0.75], [i[3] for i in iris.data if i[3] < 0.75])"
   ]
  },
  {
   "cell_type": "code",
   "execution_count": null,
   "id": "a1eec807",
   "metadata": {},
   "outputs": [],
   "source": [
    "iris.target[iris['target'] == 0].shape"
   ]
  },
  {
   "cell_type": "code",
   "execution_count": null,
   "id": "8e67f497",
   "metadata": {},
   "outputs": [],
   "source": [
    "X1 = iris['data'][:, 1:2]\n",
    "X2 = iris['data'][:, 3:]\n",
    "X1[:2], X2[:2]"
   ]
  },
  {
   "cell_type": "code",
   "execution_count": null,
   "id": "2d5d5b20",
   "metadata": {},
   "outputs": [],
   "source": [
    "plt.scatter(X1, X2)"
   ]
  },
  {
   "cell_type": "code",
   "execution_count": null,
   "id": "92fc7db1",
   "metadata": {},
   "outputs": [],
   "source": [
    "y = iris['target'].copy()\n",
    "y[y > 0] = 1\n",
    "y[ y == 0] = -1\n",
    "y, iris['target']"
   ]
  },
  {
   "cell_type": "code",
   "execution_count": null,
   "id": "cefc1cac",
   "metadata": {},
   "outputs": [],
   "source": [
    "plt.scatter(iris['data'][:, 1], iris['data'][:, 3], c=y, cmap='viridis')"
   ]
  },
  {
   "cell_type": "code",
   "execution_count": null,
   "id": "585dfb22",
   "metadata": {},
   "outputs": [],
   "source": [
    "X = iris['data'][:, 1:4:2]\n",
    "X[:5]"
   ]
  },
  {
   "cell_type": "code",
   "execution_count": null,
   "id": "e427cb02",
   "metadata": {},
   "outputs": [],
   "source": []
  },
  {
   "cell_type": "code",
   "execution_count": null,
   "id": "b88c2d3d",
   "metadata": {},
   "outputs": [],
   "source": [
    "# initial weights\n",
    "W0 = np.array([0.3, -1, 2])\n",
    "\n",
    "len(X)\n",
    "for x, y_ in zip(X, y):\n",
    "    print(y_, x, np.sign(W0.dot(x)) == y_, W0 + y_*x)"
   ]
  },
  {
   "cell_type": "code",
   "execution_count": null,
   "id": "3dd4a34f",
   "metadata": {},
   "outputs": [],
   "source": [
    "def fit(X, W, y, epoch):\n",
    "    for itr in range(epoch):\n",
    "        i = 0\n",
    "        for xi, yi in zip(X, y):\n",
    "            if np.sign(W.dot(xi)) != yi:\n",
    "                i += 1\n",
    "                W = W + yi * xi\n",
    "    return W\n",
    "w0, w1, w2 = fit(X, W0, y, 20)\n",
    "            \n",
    "            \n",
    "print(w0, w1, w2)        "
   ]
  },
  {
   "cell_type": "code",
   "execution_count": null,
   "id": "5e5d124f",
   "metadata": {},
   "outputs": [],
   "source": [
    "plt.scatter(X[:,1], X[:, 2], c=y, cmap='viridis')\n",
    "xline = np.linspace(min(X[:,1]), max(X[:,1]))\n",
    "plt.plot(xline, -w1*xline/w2 - w0/w2)"
   ]
  },
  {
   "cell_type": "code",
   "execution_count": null,
   "id": "4a0a0edb",
   "metadata": {},
   "outputs": [],
   "source": [
    "np.ones((1, len(X))).shape, X.T.shape\n",
    "# np.stack((np.ones(len(X)), X), axis=-1)"
   ]
  },
  {
   "cell_type": "code",
   "execution_count": null,
   "id": "7556838b",
   "metadata": {},
   "outputs": [],
   "source": [
    "X = np.hstack((np.ones((len(X), 1)), X))"
   ]
  },
  {
   "cell_type": "code",
   "execution_count": null,
   "id": "5e44700d",
   "metadata": {},
   "outputs": [],
   "source": [
    "X.shape"
   ]
  },
  {
   "cell_type": "code",
   "execution_count": null,
   "id": "072ec8e2",
   "metadata": {
    "scrolled": true
   },
   "outputs": [],
   "source": [
    "X[:,1]"
   ]
  },
  {
   "cell_type": "code",
   "execution_count": null,
   "id": "e17e1948",
   "metadata": {},
   "outputs": [],
   "source": [
    "from sklearn.linear_model import LogisticRegression\n",
    "\n",
    "log_reg = LogisticRegression()\n",
    "log_reg.fit(X[:,3:], y)"
   ]
  },
  {
   "cell_type": "code",
   "execution_count": null,
   "id": "22956f6a",
   "metadata": {},
   "outputs": [],
   "source": [
    "iris.data[:5]"
   ]
  },
  {
   "cell_type": "code",
   "execution_count": null,
   "id": "248ec514",
   "metadata": {},
   "outputs": [],
   "source": [
    "np.sign(np.sum(W*X, axis=1))\n"
   ]
  },
  {
   "cell_type": "code",
   "execution_count": null,
   "id": "795f59fb",
   "metadata": {},
   "outputs": [],
   "source": [
    "(W*X)[:2]"
   ]
  },
  {
   "cell_type": "code",
   "execution_count": null,
   "id": "694c1022",
   "metadata": {},
   "outputs": [],
   "source": [
    "is_none?"
   ]
  },
  {
   "cell_type": "code",
   "execution_count": null,
   "id": "2bc30e02",
   "metadata": {},
   "outputs": [],
   "source": []
  }
 ],
 "metadata": {
  "kernelspec": {
   "display_name": "Python 3",
   "language": "python",
   "name": "python3"
  },
  "language_info": {
   "codemirror_mode": {
    "name": "ipython",
    "version": 3
   },
   "file_extension": ".py",
   "mimetype": "text/x-python",
   "name": "python",
   "nbconvert_exporter": "python",
   "pygments_lexer": "ipython3",
   "version": "3.8.8"
  }
 },
 "nbformat": 4,
 "nbformat_minor": 5
}
